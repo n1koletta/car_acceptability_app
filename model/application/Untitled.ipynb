{
 "cells": [
  {
   "cell_type": "code",
   "execution_count": 9,
   "metadata": {},
   "outputs": [],
   "source": [
    "from flask import Flask, request, Response, json\n",
    "import numpy as np\n",
    "import pandas as pd\n",
    "from sklearn.preprocessing import StandardScaler\n",
    "from sklearn.preprocessing import OneHotEncoder\n",
    "from sklearn.model_selection import train_test_split\n",
    "from sklearn.ensemble import RandomForestClassifier\n",
    "\n",
    "#load data\n",
    "df = pd.read_csv(\"../dataset/car.csv\")"
   ]
  },
  {
   "cell_type": "code",
   "execution_count": 18,
   "metadata": {},
   "outputs": [
    {
     "data": {
      "text/plain": [
       "RandomForestClassifier(bootstrap=True, ccp_alpha=0.0, class_weight=None,\n",
       "                       criterion='gini', max_depth=None, max_features='auto',\n",
       "                       max_leaf_nodes=None, max_samples=None,\n",
       "                       min_impurity_decrease=0.0, min_impurity_split=None,\n",
       "                       min_samples_leaf=1, min_samples_split=2,\n",
       "                       min_weight_fraction_leaf=0.0, n_estimators=100,\n",
       "                       n_jobs=None, oob_score=False, random_state=None,\n",
       "                       verbose=0, warm_start=False)"
      ]
     },
     "execution_count": 18,
     "metadata": {},
     "output_type": "execute_result"
    }
   ],
   "source": [
    "#extract categoric features\n",
    "X_categoric = df.iloc[:,:-1].values\n",
    "\n",
    "#extract outcome variable\n",
    "y = df.iloc[:, -1].values\n",
    "\n",
    "#onehotencoding\n",
    "ohe = OneHotEncoder()\n",
    "categoric_data = ohe.fit_transform(X_categoric).toarray()\n",
    "categoric_df = pd.DataFrame(categoric_data)\n",
    "categoric_df.columns = ohe.get_feature_names()\n",
    "\n",
    "X_final = categoric_df\n",
    "\n",
    "#train model\n",
    "rfc = RandomForestClassifier(n_estimators = 100)\n",
    "rfc.fit(X_final, y)"
   ]
  },
  {
   "cell_type": "code",
   "execution_count": 19,
   "metadata": {},
   "outputs": [],
   "source": [
    "#create flask instance\n",
    "app = Flask(__name__)\n",
    "\n",
    "#create api\n",
    "@app.route('/api', methods=['GET', 'POST'])\n",
    "def predict():\n",
    "    #get data from request\n",
    "    data = request.get_json(force=True)\n",
    "    data_categoric = np.array([data[\"job\"], data[\"marital\"], data[\"education\"], data[\"default\"], data[\"housing\"], data[\"loan\"]])\n",
    "    data_categoric = np.reshape(data_categoric, (1, -1))\n",
    "    data_categoric = ohe.transform(data_categoric).toarray()\n",
    " \n",
    "    data_age = np.array([data[\"age\"]])\n",
    "    data_age = np.reshape(data_age, (1, -1))\n",
    "    data_age = np.array(age_std_scale.transform(data_age))\n",
    "\n",
    "    data_balance = np.array([data[\"balance\"]])\n",
    "    data_balance= np.reshape(data_balance, (1, -1))\n",
    "    data_balance = np.array(balance_std_scale.transform(data_balance))\n",
    "\n",
    "    data_final = np.column_stack((data_age, data_balance, data_categoric))\n",
    "    data_final = pd.DataFrame(data_final, dtype=object)\n",
    "\n",
    "    #make predicon using model\n",
    "    prediction = rfc.predict(data_final)\n",
    "    return Response(json.dumps(prediction[0]))"
   ]
  },
  {
   "cell_type": "code",
   "execution_count": null,
   "metadata": {},
   "outputs": [],
   "source": []
  }
 ],
 "metadata": {
  "kernelspec": {
   "display_name": "Python 3",
   "language": "python",
   "name": "python3"
  },
  "language_info": {
   "codemirror_mode": {
    "name": "ipython",
    "version": 3
   },
   "file_extension": ".py",
   "mimetype": "text/x-python",
   "name": "python",
   "nbconvert_exporter": "python",
   "pygments_lexer": "ipython3",
   "version": "3.7.3"
  }
 },
 "nbformat": 4,
 "nbformat_minor": 2
}
